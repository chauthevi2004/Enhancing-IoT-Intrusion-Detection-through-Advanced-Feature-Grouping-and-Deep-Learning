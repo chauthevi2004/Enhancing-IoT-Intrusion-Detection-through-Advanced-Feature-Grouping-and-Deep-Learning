{
 "cells": [
  {
   "cell_type": "markdown",
   "metadata": {},
   "source": [
    "## Preprocessing"
   ]
  },
  {
   "cell_type": "code",
   "execution_count": 26,
   "metadata": {},
   "outputs": [],
   "source": [
    "from openfe import OpenFE, tree_to_formula, transform, TwoStageFeatureSelector\n",
    "import pandas as pd\n",
    "import numpy as np\n",
    "from sklearn.model_selection import train_test_split\n",
    "from sklearn.preprocessing import LabelEncoder\n",
    "from sklearn.preprocessing import StandardScaler\n",
    "import lightgbm as lgb\n",
    "from sklearn.metrics import accuracy_score\n"
   ]
  },
  {
   "cell_type": "code",
   "execution_count": 27,
   "metadata": {},
   "outputs": [],
   "source": [
    "df = pd.read_csv('F:/Kỳ 4/Thầy Hùng/OpenFE/data/MQTT-IoT-IDS2020/mqtt-iot-ids2020.csv')"
   ]
  },
  {
   "cell_type": "code",
   "execution_count": 28,
   "metadata": {},
   "outputs": [
    {
     "data": {
      "text/html": [
       "<div>\n",
       "<style scoped>\n",
       "    .dataframe tbody tr th:only-of-type {\n",
       "        vertical-align: middle;\n",
       "    }\n",
       "\n",
       "    .dataframe tbody tr th {\n",
       "        vertical-align: top;\n",
       "    }\n",
       "\n",
       "    .dataframe thead th {\n",
       "        text-align: right;\n",
       "    }\n",
       "</style>\n",
       "<table border=\"1\" class=\"dataframe\">\n",
       "  <thead>\n",
       "    <tr style=\"text-align: right;\">\n",
       "      <th></th>\n",
       "      <th>Unnamed: 0</th>\n",
       "      <th>ip_src</th>\n",
       "      <th>ip_dst</th>\n",
       "      <th>prt_src</th>\n",
       "      <th>prt_dst</th>\n",
       "      <th>proto</th>\n",
       "      <th>fwd_num_pkts</th>\n",
       "      <th>bwd_num_pkts</th>\n",
       "      <th>fwd_mean_iat</th>\n",
       "      <th>bwd_mean_iat</th>\n",
       "      <th>...</th>\n",
       "      <th>fwd_num_bytes</th>\n",
       "      <th>bwd_num_bytes</th>\n",
       "      <th>fwd_num_psh_flags</th>\n",
       "      <th>bwd_num_psh_flags</th>\n",
       "      <th>fwd_num_rst_flags</th>\n",
       "      <th>bwd_num_rst_flags</th>\n",
       "      <th>fwd_num_urg_flags</th>\n",
       "      <th>bwd_num_urg_flags</th>\n",
       "      <th>is_attack</th>\n",
       "      <th>scenario</th>\n",
       "    </tr>\n",
       "  </thead>\n",
       "  <tbody>\n",
       "    <tr>\n",
       "      <th>0</th>\n",
       "      <td>0</td>\n",
       "      <td>192.168.2.5</td>\n",
       "      <td>192.168.2.1</td>\n",
       "      <td>46279</td>\n",
       "      <td>53</td>\n",
       "      <td>17</td>\n",
       "      <td>2</td>\n",
       "      <td>2</td>\n",
       "      <td>0.000008</td>\n",
       "      <td>0.000016</td>\n",
       "      <td>...</td>\n",
       "      <td>166</td>\n",
       "      <td>166</td>\n",
       "      <td>0</td>\n",
       "      <td>0</td>\n",
       "      <td>0</td>\n",
       "      <td>0</td>\n",
       "      <td>0</td>\n",
       "      <td>0</td>\n",
       "      <td>1</td>\n",
       "      <td>mqtt_bruteforce</td>\n",
       "    </tr>\n",
       "    <tr>\n",
       "      <th>1</th>\n",
       "      <td>1</td>\n",
       "      <td>192.168.2.7</td>\n",
       "      <td>192.168.2.1</td>\n",
       "      <td>57171</td>\n",
       "      <td>53</td>\n",
       "      <td>17</td>\n",
       "      <td>1</td>\n",
       "      <td>1</td>\n",
       "      <td>0.000000</td>\n",
       "      <td>0.000000</td>\n",
       "      <td>...</td>\n",
       "      <td>87</td>\n",
       "      <td>76</td>\n",
       "      <td>0</td>\n",
       "      <td>0</td>\n",
       "      <td>0</td>\n",
       "      <td>0</td>\n",
       "      <td>0</td>\n",
       "      <td>0</td>\n",
       "      <td>0</td>\n",
       "      <td>mqtt_bruteforce</td>\n",
       "    </tr>\n",
       "    <tr>\n",
       "      <th>2</th>\n",
       "      <td>2</td>\n",
       "      <td>192.168.2.7</td>\n",
       "      <td>192.168.2.1</td>\n",
       "      <td>33953</td>\n",
       "      <td>53</td>\n",
       "      <td>17</td>\n",
       "      <td>1</td>\n",
       "      <td>1</td>\n",
       "      <td>0.000000</td>\n",
       "      <td>0.000000</td>\n",
       "      <td>...</td>\n",
       "      <td>87</td>\n",
       "      <td>76</td>\n",
       "      <td>0</td>\n",
       "      <td>0</td>\n",
       "      <td>0</td>\n",
       "      <td>0</td>\n",
       "      <td>0</td>\n",
       "      <td>0</td>\n",
       "      <td>0</td>\n",
       "      <td>mqtt_bruteforce</td>\n",
       "    </tr>\n",
       "    <tr>\n",
       "      <th>3</th>\n",
       "      <td>3</td>\n",
       "      <td>192.168.2.6</td>\n",
       "      <td>192.168.2.1</td>\n",
       "      <td>37765</td>\n",
       "      <td>53</td>\n",
       "      <td>17</td>\n",
       "      <td>2</td>\n",
       "      <td>2</td>\n",
       "      <td>0.000007</td>\n",
       "      <td>0.000020</td>\n",
       "      <td>...</td>\n",
       "      <td>134</td>\n",
       "      <td>134</td>\n",
       "      <td>0</td>\n",
       "      <td>0</td>\n",
       "      <td>0</td>\n",
       "      <td>0</td>\n",
       "      <td>0</td>\n",
       "      <td>0</td>\n",
       "      <td>0</td>\n",
       "      <td>mqtt_bruteforce</td>\n",
       "    </tr>\n",
       "    <tr>\n",
       "      <th>4</th>\n",
       "      <td>4</td>\n",
       "      <td>192.168.2.7</td>\n",
       "      <td>192.168.2.1</td>\n",
       "      <td>49931</td>\n",
       "      <td>53</td>\n",
       "      <td>17</td>\n",
       "      <td>1</td>\n",
       "      <td>1</td>\n",
       "      <td>0.000000</td>\n",
       "      <td>0.000000</td>\n",
       "      <td>...</td>\n",
       "      <td>71</td>\n",
       "      <td>60</td>\n",
       "      <td>0</td>\n",
       "      <td>0</td>\n",
       "      <td>0</td>\n",
       "      <td>0</td>\n",
       "      <td>0</td>\n",
       "      <td>0</td>\n",
       "      <td>0</td>\n",
       "      <td>mqtt_bruteforce</td>\n",
       "    </tr>\n",
       "  </tbody>\n",
       "</table>\n",
       "<p>5 rows × 34 columns</p>\n",
       "</div>"
      ],
      "text/plain": [
       "   Unnamed: 0       ip_src       ip_dst  prt_src  prt_dst  proto  \\\n",
       "0           0  192.168.2.5  192.168.2.1    46279       53     17   \n",
       "1           1  192.168.2.7  192.168.2.1    57171       53     17   \n",
       "2           2  192.168.2.7  192.168.2.1    33953       53     17   \n",
       "3           3  192.168.2.6  192.168.2.1    37765       53     17   \n",
       "4           4  192.168.2.7  192.168.2.1    49931       53     17   \n",
       "\n",
       "   fwd_num_pkts  bwd_num_pkts  fwd_mean_iat  bwd_mean_iat  ...  fwd_num_bytes  \\\n",
       "0             2             2      0.000008      0.000016  ...            166   \n",
       "1             1             1      0.000000      0.000000  ...             87   \n",
       "2             1             1      0.000000      0.000000  ...             87   \n",
       "3             2             2      0.000007      0.000020  ...            134   \n",
       "4             1             1      0.000000      0.000000  ...             71   \n",
       "\n",
       "   bwd_num_bytes  fwd_num_psh_flags  bwd_num_psh_flags  fwd_num_rst_flags  \\\n",
       "0            166                  0                  0                  0   \n",
       "1             76                  0                  0                  0   \n",
       "2             76                  0                  0                  0   \n",
       "3            134                  0                  0                  0   \n",
       "4             60                  0                  0                  0   \n",
       "\n",
       "   bwd_num_rst_flags  fwd_num_urg_flags  bwd_num_urg_flags  is_attack  \\\n",
       "0                  0                  0                  0          1   \n",
       "1                  0                  0                  0          0   \n",
       "2                  0                  0                  0          0   \n",
       "3                  0                  0                  0          0   \n",
       "4                  0                  0                  0          0   \n",
       "\n",
       "          scenario  \n",
       "0  mqtt_bruteforce  \n",
       "1  mqtt_bruteforce  \n",
       "2  mqtt_bruteforce  \n",
       "3  mqtt_bruteforce  \n",
       "4  mqtt_bruteforce  \n",
       "\n",
       "[5 rows x 34 columns]"
      ]
     },
     "execution_count": 28,
     "metadata": {},
     "output_type": "execute_result"
    }
   ],
   "source": [
    "df.head(5)"
   ]
  },
  {
   "cell_type": "code",
   "execution_count": 29,
   "metadata": {},
   "outputs": [
    {
     "data": {
      "text/plain": [
       "(259379, 34)"
      ]
     },
     "execution_count": 29,
     "metadata": {},
     "output_type": "execute_result"
    }
   ],
   "source": [
    "df.shape"
   ]
  },
  {
   "cell_type": "code",
   "execution_count": 30,
   "metadata": {},
   "outputs": [
    {
     "name": "stdout",
     "output_type": "stream",
     "text": [
      "<class 'pandas.core.frame.DataFrame'>\n",
      "RangeIndex: 259379 entries, 0 to 259378\n",
      "Data columns (total 34 columns):\n",
      " #   Column             Non-Null Count   Dtype  \n",
      "---  ------             --------------   -----  \n",
      " 0   Unnamed: 0         259379 non-null  int64  \n",
      " 1   ip_src             259379 non-null  object \n",
      " 2   ip_dst             259379 non-null  object \n",
      " 3   prt_src            259379 non-null  int64  \n",
      " 4   prt_dst            259379 non-null  int64  \n",
      " 5   proto              259379 non-null  int64  \n",
      " 6   fwd_num_pkts       259379 non-null  int64  \n",
      " 7   bwd_num_pkts       259379 non-null  int64  \n",
      " 8   fwd_mean_iat       259379 non-null  float64\n",
      " 9   bwd_mean_iat       259379 non-null  float64\n",
      " 10  fwd_std_iat        259379 non-null  float64\n",
      " 11  bwd_std_iat        259379 non-null  float64\n",
      " 12  fwd_min_iat        259379 non-null  float64\n",
      " 13  bwd_min_iat        259379 non-null  float64\n",
      " 14  fwd_max_iat        259379 non-null  float64\n",
      " 15  bwd_max_iat        259379 non-null  float64\n",
      " 16  fwd_mean_pkt_len   259379 non-null  float64\n",
      " 17  bwd_mean_pkt_len   259379 non-null  float64\n",
      " 18  fwd_std_pkt_len    259379 non-null  float64\n",
      " 19  bwd_std_pkt_len    259379 non-null  float64\n",
      " 20  fwd_min_pkt_len    259379 non-null  float64\n",
      " 21  bwd_min_pkt_len    259379 non-null  float64\n",
      " 22  fwd_max_pkt_len    259379 non-null  float64\n",
      " 23  bwd_max_pkt_len    259379 non-null  float64\n",
      " 24  fwd_num_bytes      259379 non-null  int64  \n",
      " 25  bwd_num_bytes      259379 non-null  int64  \n",
      " 26  fwd_num_psh_flags  259379 non-null  int64  \n",
      " 27  bwd_num_psh_flags  259379 non-null  int64  \n",
      " 28  fwd_num_rst_flags  259379 non-null  int64  \n",
      " 29  bwd_num_rst_flags  259379 non-null  int64  \n",
      " 30  fwd_num_urg_flags  259379 non-null  int64  \n",
      " 31  bwd_num_urg_flags  259379 non-null  int64  \n",
      " 32  is_attack          259379 non-null  int64  \n",
      " 33  scenario           259379 non-null  object \n",
      "dtypes: float64(16), int64(15), object(3)\n",
      "memory usage: 67.3+ MB\n"
     ]
    }
   ],
   "source": [
    "df.info()"
   ]
  },
  {
   "cell_type": "code",
   "execution_count": 31,
   "metadata": {},
   "outputs": [
    {
     "data": {
      "text/plain": [
       "Unnamed: 0           0\n",
       "ip_src               0\n",
       "ip_dst               0\n",
       "prt_src              0\n",
       "prt_dst              0\n",
       "proto                0\n",
       "fwd_num_pkts         0\n",
       "bwd_num_pkts         0\n",
       "fwd_mean_iat         0\n",
       "bwd_mean_iat         0\n",
       "fwd_std_iat          0\n",
       "bwd_std_iat          0\n",
       "fwd_min_iat          0\n",
       "bwd_min_iat          0\n",
       "fwd_max_iat          0\n",
       "bwd_max_iat          0\n",
       "fwd_mean_pkt_len     0\n",
       "bwd_mean_pkt_len     0\n",
       "fwd_std_pkt_len      0\n",
       "bwd_std_pkt_len      0\n",
       "fwd_min_pkt_len      0\n",
       "bwd_min_pkt_len      0\n",
       "fwd_max_pkt_len      0\n",
       "bwd_max_pkt_len      0\n",
       "fwd_num_bytes        0\n",
       "bwd_num_bytes        0\n",
       "fwd_num_psh_flags    0\n",
       "bwd_num_psh_flags    0\n",
       "fwd_num_rst_flags    0\n",
       "bwd_num_rst_flags    0\n",
       "fwd_num_urg_flags    0\n",
       "bwd_num_urg_flags    0\n",
       "is_attack            0\n",
       "scenario             0\n",
       "dtype: int64"
      ]
     },
     "execution_count": 31,
     "metadata": {},
     "output_type": "execute_result"
    }
   ],
   "source": [
    "df.isnull().sum()"
   ]
  },
  {
   "cell_type": "code",
   "execution_count": 32,
   "metadata": {},
   "outputs": [
    {
     "data": {
      "text/html": [
       "<div>\n",
       "<style scoped>\n",
       "    .dataframe tbody tr th:only-of-type {\n",
       "        vertical-align: middle;\n",
       "    }\n",
       "\n",
       "    .dataframe tbody tr th {\n",
       "        vertical-align: top;\n",
       "    }\n",
       "\n",
       "    .dataframe thead th {\n",
       "        text-align: right;\n",
       "    }\n",
       "</style>\n",
       "<table border=\"1\" class=\"dataframe\">\n",
       "  <thead>\n",
       "    <tr style=\"text-align: right;\">\n",
       "      <th></th>\n",
       "      <th>Unnamed: 0</th>\n",
       "      <th>ip_src</th>\n",
       "      <th>ip_dst</th>\n",
       "      <th>prt_src</th>\n",
       "      <th>prt_dst</th>\n",
       "      <th>proto</th>\n",
       "      <th>fwd_num_pkts</th>\n",
       "      <th>bwd_num_pkts</th>\n",
       "      <th>fwd_mean_iat</th>\n",
       "      <th>bwd_mean_iat</th>\n",
       "      <th>...</th>\n",
       "      <th>fwd_num_bytes</th>\n",
       "      <th>bwd_num_bytes</th>\n",
       "      <th>fwd_num_psh_flags</th>\n",
       "      <th>bwd_num_psh_flags</th>\n",
       "      <th>fwd_num_rst_flags</th>\n",
       "      <th>bwd_num_rst_flags</th>\n",
       "      <th>fwd_num_urg_flags</th>\n",
       "      <th>bwd_num_urg_flags</th>\n",
       "      <th>is_attack</th>\n",
       "      <th>scenario</th>\n",
       "    </tr>\n",
       "  </thead>\n",
       "  <tbody>\n",
       "  </tbody>\n",
       "</table>\n",
       "<p>0 rows × 34 columns</p>\n",
       "</div>"
      ],
      "text/plain": [
       "Empty DataFrame\n",
       "Columns: [Unnamed: 0, ip_src, ip_dst, prt_src, prt_dst, proto, fwd_num_pkts, bwd_num_pkts, fwd_mean_iat, bwd_mean_iat, fwd_std_iat, bwd_std_iat, fwd_min_iat, bwd_min_iat, fwd_max_iat, bwd_max_iat, fwd_mean_pkt_len, bwd_mean_pkt_len, fwd_std_pkt_len, bwd_std_pkt_len, fwd_min_pkt_len, bwd_min_pkt_len, fwd_max_pkt_len, bwd_max_pkt_len, fwd_num_bytes, bwd_num_bytes, fwd_num_psh_flags, bwd_num_psh_flags, fwd_num_rst_flags, bwd_num_rst_flags, fwd_num_urg_flags, bwd_num_urg_flags, is_attack, scenario]\n",
       "Index: []\n",
       "\n",
       "[0 rows x 34 columns]"
      ]
     },
     "execution_count": 32,
     "metadata": {},
     "output_type": "execute_result"
    }
   ],
   "source": [
    "df[df.duplicated()]"
   ]
  },
  {
   "cell_type": "code",
   "execution_count": 33,
   "metadata": {},
   "outputs": [
    {
     "data": {
      "text/plain": [
       "array([1, 0], dtype=int64)"
      ]
     },
     "execution_count": 33,
     "metadata": {},
     "output_type": "execute_result"
    }
   ],
   "source": [
    "df['is_attack'].unique()"
   ]
  },
  {
   "cell_type": "code",
   "execution_count": 34,
   "metadata": {},
   "outputs": [
    {
     "data": {
      "text/plain": [
       "scenario\n",
       "sparta             91318\n",
       "normal             86008\n",
       "scan_sU            39664\n",
       "scan_A             25693\n",
       "mqtt_bruteforce    16696\n",
       "Name: count, dtype: int64"
      ]
     },
     "execution_count": 34,
     "metadata": {},
     "output_type": "execute_result"
    }
   ],
   "source": [
    "value_counts = df['scenario'].value_counts()\n",
    "value_counts"
   ]
  },
  {
   "cell_type": "code",
   "execution_count": 35,
   "metadata": {},
   "outputs": [
    {
     "data": {
      "text/plain": [
       "Index(['ip_src', 'ip_dst', 'scenario'], dtype='object')"
      ]
     },
     "execution_count": 35,
     "metadata": {},
     "output_type": "execute_result"
    }
   ],
   "source": [
    "df.select_dtypes(include=['object']).columns"
   ]
  },
  {
   "cell_type": "code",
   "execution_count": 36,
   "metadata": {},
   "outputs": [],
   "source": [
    "#Encode\n",
    "label_encoder = LabelEncoder()\n",
    "cols_to_encode = ['scenario']\n",
    "for col in cols_to_encode:\n",
    "    if df[col].dtype == 'object':\n",
    "        df[col] = label_encoder.fit_transform(df[col])"
   ]
  },
  {
   "cell_type": "code",
   "execution_count": 37,
   "metadata": {},
   "outputs": [
    {
     "name": "stdout",
     "output_type": "stream",
     "text": [
      "bwd_num_urg_flags\n"
     ]
    }
   ],
   "source": [
    "for col in df.columns:\n",
    "  if len(df[col].unique()) <= 1:\n",
    "    print(col)\n",
    "    df.drop(col, axis=1, inplace=True)"
   ]
  },
  {
   "cell_type": "code",
   "execution_count": 38,
   "metadata": {},
   "outputs": [],
   "source": [
    "features = df.drop(['is_attack', 'ip_src', 'ip_dst', 'Unnamed: 0', 'bwd_num_psh_flags'], axis=1)\n",
    "labels = df[['is_attack']]"
   ]
  },
  {
   "cell_type": "code",
   "execution_count": 39,
   "metadata": {},
   "outputs": [
    {
     "data": {
      "text/html": [
       "<div>\n",
       "<style scoped>\n",
       "    .dataframe tbody tr th:only-of-type {\n",
       "        vertical-align: middle;\n",
       "    }\n",
       "\n",
       "    .dataframe tbody tr th {\n",
       "        vertical-align: top;\n",
       "    }\n",
       "\n",
       "    .dataframe thead th {\n",
       "        text-align: right;\n",
       "    }\n",
       "</style>\n",
       "<table border=\"1\" class=\"dataframe\">\n",
       "  <thead>\n",
       "    <tr style=\"text-align: right;\">\n",
       "      <th></th>\n",
       "      <th>prt_src</th>\n",
       "      <th>prt_dst</th>\n",
       "      <th>proto</th>\n",
       "      <th>fwd_num_pkts</th>\n",
       "      <th>bwd_num_pkts</th>\n",
       "      <th>fwd_mean_iat</th>\n",
       "      <th>bwd_mean_iat</th>\n",
       "      <th>fwd_std_iat</th>\n",
       "      <th>bwd_std_iat</th>\n",
       "      <th>fwd_min_iat</th>\n",
       "      <th>...</th>\n",
       "      <th>bwd_min_pkt_len</th>\n",
       "      <th>fwd_max_pkt_len</th>\n",
       "      <th>bwd_max_pkt_len</th>\n",
       "      <th>fwd_num_bytes</th>\n",
       "      <th>bwd_num_bytes</th>\n",
       "      <th>fwd_num_psh_flags</th>\n",
       "      <th>fwd_num_rst_flags</th>\n",
       "      <th>bwd_num_rst_flags</th>\n",
       "      <th>fwd_num_urg_flags</th>\n",
       "      <th>scenario</th>\n",
       "    </tr>\n",
       "  </thead>\n",
       "  <tbody>\n",
       "    <tr>\n",
       "      <th>0</th>\n",
       "      <td>46279</td>\n",
       "      <td>53</td>\n",
       "      <td>17</td>\n",
       "      <td>2</td>\n",
       "      <td>2</td>\n",
       "      <td>0.000008</td>\n",
       "      <td>0.000016</td>\n",
       "      <td>0.0</td>\n",
       "      <td>0.0</td>\n",
       "      <td>0.000008</td>\n",
       "      <td>...</td>\n",
       "      <td>83.0</td>\n",
       "      <td>83.0</td>\n",
       "      <td>83.0</td>\n",
       "      <td>166</td>\n",
       "      <td>166</td>\n",
       "      <td>0</td>\n",
       "      <td>0</td>\n",
       "      <td>0</td>\n",
       "      <td>0</td>\n",
       "      <td>0</td>\n",
       "    </tr>\n",
       "    <tr>\n",
       "      <th>1</th>\n",
       "      <td>57171</td>\n",
       "      <td>53</td>\n",
       "      <td>17</td>\n",
       "      <td>1</td>\n",
       "      <td>1</td>\n",
       "      <td>0.000000</td>\n",
       "      <td>0.000000</td>\n",
       "      <td>0.0</td>\n",
       "      <td>0.0</td>\n",
       "      <td>0.000000</td>\n",
       "      <td>...</td>\n",
       "      <td>76.0</td>\n",
       "      <td>87.0</td>\n",
       "      <td>76.0</td>\n",
       "      <td>87</td>\n",
       "      <td>76</td>\n",
       "      <td>0</td>\n",
       "      <td>0</td>\n",
       "      <td>0</td>\n",
       "      <td>0</td>\n",
       "      <td>0</td>\n",
       "    </tr>\n",
       "    <tr>\n",
       "      <th>2</th>\n",
       "      <td>33953</td>\n",
       "      <td>53</td>\n",
       "      <td>17</td>\n",
       "      <td>1</td>\n",
       "      <td>1</td>\n",
       "      <td>0.000000</td>\n",
       "      <td>0.000000</td>\n",
       "      <td>0.0</td>\n",
       "      <td>0.0</td>\n",
       "      <td>0.000000</td>\n",
       "      <td>...</td>\n",
       "      <td>76.0</td>\n",
       "      <td>87.0</td>\n",
       "      <td>76.0</td>\n",
       "      <td>87</td>\n",
       "      <td>76</td>\n",
       "      <td>0</td>\n",
       "      <td>0</td>\n",
       "      <td>0</td>\n",
       "      <td>0</td>\n",
       "      <td>0</td>\n",
       "    </tr>\n",
       "    <tr>\n",
       "      <th>3</th>\n",
       "      <td>37765</td>\n",
       "      <td>53</td>\n",
       "      <td>17</td>\n",
       "      <td>2</td>\n",
       "      <td>2</td>\n",
       "      <td>0.000007</td>\n",
       "      <td>0.000020</td>\n",
       "      <td>0.0</td>\n",
       "      <td>0.0</td>\n",
       "      <td>0.000007</td>\n",
       "      <td>...</td>\n",
       "      <td>67.0</td>\n",
       "      <td>67.0</td>\n",
       "      <td>67.0</td>\n",
       "      <td>134</td>\n",
       "      <td>134</td>\n",
       "      <td>0</td>\n",
       "      <td>0</td>\n",
       "      <td>0</td>\n",
       "      <td>0</td>\n",
       "      <td>0</td>\n",
       "    </tr>\n",
       "    <tr>\n",
       "      <th>4</th>\n",
       "      <td>49931</td>\n",
       "      <td>53</td>\n",
       "      <td>17</td>\n",
       "      <td>1</td>\n",
       "      <td>1</td>\n",
       "      <td>0.000000</td>\n",
       "      <td>0.000000</td>\n",
       "      <td>0.0</td>\n",
       "      <td>0.0</td>\n",
       "      <td>0.000000</td>\n",
       "      <td>...</td>\n",
       "      <td>60.0</td>\n",
       "      <td>71.0</td>\n",
       "      <td>60.0</td>\n",
       "      <td>71</td>\n",
       "      <td>60</td>\n",
       "      <td>0</td>\n",
       "      <td>0</td>\n",
       "      <td>0</td>\n",
       "      <td>0</td>\n",
       "      <td>0</td>\n",
       "    </tr>\n",
       "  </tbody>\n",
       "</table>\n",
       "<p>5 rows × 28 columns</p>\n",
       "</div>"
      ],
      "text/plain": [
       "   prt_src  prt_dst  proto  fwd_num_pkts  bwd_num_pkts  fwd_mean_iat  \\\n",
       "0    46279       53     17             2             2      0.000008   \n",
       "1    57171       53     17             1             1      0.000000   \n",
       "2    33953       53     17             1             1      0.000000   \n",
       "3    37765       53     17             2             2      0.000007   \n",
       "4    49931       53     17             1             1      0.000000   \n",
       "\n",
       "   bwd_mean_iat  fwd_std_iat  bwd_std_iat  fwd_min_iat  ...  bwd_min_pkt_len  \\\n",
       "0      0.000016          0.0          0.0     0.000008  ...             83.0   \n",
       "1      0.000000          0.0          0.0     0.000000  ...             76.0   \n",
       "2      0.000000          0.0          0.0     0.000000  ...             76.0   \n",
       "3      0.000020          0.0          0.0     0.000007  ...             67.0   \n",
       "4      0.000000          0.0          0.0     0.000000  ...             60.0   \n",
       "\n",
       "   fwd_max_pkt_len  bwd_max_pkt_len  fwd_num_bytes  bwd_num_bytes  \\\n",
       "0             83.0             83.0            166            166   \n",
       "1             87.0             76.0             87             76   \n",
       "2             87.0             76.0             87             76   \n",
       "3             67.0             67.0            134            134   \n",
       "4             71.0             60.0             71             60   \n",
       "\n",
       "   fwd_num_psh_flags  fwd_num_rst_flags  bwd_num_rst_flags  fwd_num_urg_flags  \\\n",
       "0                  0                  0                  0                  0   \n",
       "1                  0                  0                  0                  0   \n",
       "2                  0                  0                  0                  0   \n",
       "3                  0                  0                  0                  0   \n",
       "4                  0                  0                  0                  0   \n",
       "\n",
       "   scenario  \n",
       "0         0  \n",
       "1         0  \n",
       "2         0  \n",
       "3         0  \n",
       "4         0  \n",
       "\n",
       "[5 rows x 28 columns]"
      ]
     },
     "execution_count": 39,
     "metadata": {},
     "output_type": "execute_result"
    }
   ],
   "source": [
    "features.head()"
   ]
  },
  {
   "cell_type": "markdown",
   "metadata": {},
   "source": [
    "## Training"
   ]
  },
  {
   "cell_type": "code",
   "execution_count": 40,
   "metadata": {},
   "outputs": [],
   "source": [
    "X, _, y, _ = train_test_split(features, labels, train_size=50000, stratify=labels, random_state=42)"
   ]
  },
  {
   "cell_type": "code",
   "execution_count": 41,
   "metadata": {},
   "outputs": [],
   "source": [
    "X_train, X_test, y_train, y_test = train_test_split(X, y, test_size=0.25, random_state=42)"
   ]
  },
  {
   "cell_type": "markdown",
   "metadata": {},
   "source": [
    "## Generate new feature by OpenFE"
   ]
  },
  {
   "cell_type": "code",
   "execution_count": 42,
   "metadata": {},
   "outputs": [
    {
     "name": "stdout",
     "output_type": "stream",
     "text": [
      "The number of candidate features is 4302\n",
      "Start stage I selection.\n"
     ]
    },
    {
     "name": "stderr",
     "output_type": "stream",
     "text": [
      "100%|██████████| 4/4 [02:31<00:00, 37.77s/it]\n"
     ]
    },
    {
     "name": "stdout",
     "output_type": "stream",
     "text": [
      "2313 same features have been deleted.\n",
      "Meet early-stopping in successive feature-wise halving.\n"
     ]
    },
    {
     "name": "stderr",
     "output_type": "stream",
     "text": [
      "100%|██████████| 4/4 [03:06<00:00, 46.74s/it]\n"
     ]
    },
    {
     "name": "stdout",
     "output_type": "stream",
     "text": [
      "The number of remaining candidate features is 1989\n",
      "Start stage II selection.\n"
     ]
    },
    {
     "name": "stderr",
     "output_type": "stream",
     "text": [
      "100%|██████████| 4/4 [00:39<00:00,  9.84s/it]\n"
     ]
    },
    {
     "name": "stdout",
     "output_type": "stream",
     "text": [
      "Finish data processing.\n",
      "[LightGBM] [Info] Number of positive: 1649, number of negative: 4351\n",
      "[LightGBM] [Info] Auto-choosing col-wise multi-threading, the overhead of testing was 0.269269 seconds.\n",
      "You can set `force_col_wise=true` to remove the overhead.\n",
      "[LightGBM] [Info] Total Bins 344843\n",
      "[LightGBM] [Info] Number of data points in the train set: 6000, number of used features: 2014\n",
      "[LightGBM] [Warning] No further splits with positive gain, best gain: -inf\n",
      "[LightGBM] [Warning] No further splits with positive gain, best gain: -inf\n",
      "[LightGBM] [Warning] No further splits with positive gain, best gain: -inf\n",
      "[LightGBM] [Warning] No further splits with positive gain, best gain: -inf\n",
      "[LightGBM] [Warning] No further splits with positive gain, best gain: -inf\n",
      "[LightGBM] [Warning] No further splits with positive gain, best gain: -inf\n",
      "[LightGBM] [Warning] No further splits with positive gain, best gain: -inf\n",
      "[LightGBM] [Warning] No further splits with positive gain, best gain: -inf\n",
      "[LightGBM] [Warning] No further splits with positive gain, best gain: -inf\n",
      "[LightGBM] [Warning] No further splits with positive gain, best gain: -inf\n",
      "[LightGBM] [Warning] No further splits with positive gain, best gain: -inf\n",
      "[LightGBM] [Warning] No further splits with positive gain, best gain: -inf\n"
     ]
    }
   ],
   "source": [
    "ofe = OpenFE()\n",
    "features = ofe.fit(data = X_train, label = y_train) "
   ]
  },
  {
   "cell_type": "code",
   "execution_count": 43,
   "metadata": {},
   "outputs": [],
   "source": [
    "# Set hyperparameters for binary classification\n",
    "params = {\n",
    "    'objective': 'binary',  # Đặt mục tiêu là phân loại nhị phân\n",
    "    'metric': 'binary_error',  # Đánh giá bằng binary log loss\n",
    "    'boosting_type': 'gbdt',\n",
    "    'seed' : 1\n",
    "}"
   ]
  },
  {
   "cell_type": "markdown",
   "metadata": {},
   "source": [
    "## Score function"
   ]
  },
  {
   "cell_type": "code",
   "execution_count": 44,
   "metadata": {},
   "outputs": [],
   "source": [
    "def get_score(train_x, test_x, train_y, test_y):\n",
    "    train_x, val_x, train_y, val_y = train_test_split(train_x, train_y, test_size=0.2, random_state=42)\n",
    "    gbm = lgb.LGBMClassifier(**params)\n",
    "    gbm.fit(train_x, train_y, eval_set=[(val_x, val_y)])\n",
    "    pred = gbm.predict(test_x)\n",
    "    score = accuracy_score(test_y, pred)\n",
    "    return score\n"
   ]
  },
  {
   "cell_type": "markdown",
   "metadata": {},
   "source": [
    "### Before Feature Generation"
   ]
  },
  {
   "cell_type": "code",
   "execution_count": 45,
   "metadata": {},
   "outputs": [
    {
     "name": "stdout",
     "output_type": "stream",
     "text": [
      "[LightGBM] [Info] Number of positive: 1644, number of negative: 4356\n",
      "[LightGBM] [Info] Auto-choosing col-wise multi-threading, the overhead of testing was 0.000900 seconds.\n",
      "You can set `force_col_wise=true` to remove the overhead.\n",
      "[LightGBM] [Info] Total Bins 4277\n",
      "[LightGBM] [Info] Number of data points in the train set: 6000, number of used features: 26\n",
      "[LightGBM] [Info] [binary:BoostFromScore]: pavg=0.274000 -> initscore=-0.974422\n",
      "[LightGBM] [Info] Start training from score -0.974422\n",
      "[LightGBM] [Warning] No further splits with positive gain, best gain: -inf\n",
      "[LightGBM] [Warning] No further splits with positive gain, best gain: -inf\n",
      "[LightGBM] [Warning] No further splits with positive gain, best gain: -inf\n",
      "[LightGBM] [Warning] No further splits with positive gain, best gain: -inf\n",
      "[LightGBM] [Warning] No further splits with positive gain, best gain: -inf\n",
      "[LightGBM] [Warning] No further splits with positive gain, best gain: -inf\n",
      "[LightGBM] [Warning] No further splits with positive gain, best gain: -inf\n",
      "The score before feature generation is 0.9988\n"
     ]
    }
   ],
   "source": [
    "# get baseline score\n",
    "score = get_score(X_train, X_test, y_train, y_test)\n",
    "print(\"The score before feature generation is\", score)"
   ]
  },
  {
   "cell_type": "markdown",
   "metadata": {},
   "source": [
    "### After Feature Generation"
   ]
  },
  {
   "cell_type": "code",
   "execution_count": 46,
   "metadata": {},
   "outputs": [],
   "source": [
    "X_train, X_test = transform(X_train, X_test, ofe.new_features_list[:10], n_jobs = 1) "
   ]
  },
  {
   "cell_type": "code",
   "execution_count": 47,
   "metadata": {},
   "outputs": [
    {
     "data": {
      "text/plain": [
       "Index(['prt_src', 'prt_dst', 'proto', 'fwd_num_pkts', 'bwd_num_pkts',\n",
       "       'fwd_mean_iat', 'bwd_mean_iat', 'fwd_std_iat', 'bwd_std_iat',\n",
       "       'fwd_min_iat', 'bwd_min_iat', 'fwd_max_iat', 'bwd_max_iat',\n",
       "       'fwd_mean_pkt_len', 'bwd_mean_pkt_len', 'fwd_std_pkt_len',\n",
       "       'bwd_std_pkt_len', 'fwd_min_pkt_len', 'bwd_min_pkt_len',\n",
       "       'fwd_max_pkt_len', 'bwd_max_pkt_len', 'fwd_num_bytes', 'bwd_num_bytes',\n",
       "       'fwd_num_psh_flags', 'fwd_num_rst_flags', 'bwd_num_rst_flags',\n",
       "       'fwd_num_urg_flags', 'scenario', 'autoFE_f_0', 'autoFE_f_1',\n",
       "       'autoFE_f_2', 'autoFE_f_3', 'autoFE_f_4', 'autoFE_f_5', 'autoFE_f_6',\n",
       "       'autoFE_f_7', 'autoFE_f_8', 'autoFE_f_9'],\n",
       "      dtype='object')"
      ]
     },
     "execution_count": 47,
     "metadata": {},
     "output_type": "execute_result"
    }
   ],
   "source": [
    "X_train.columns"
   ]
  },
  {
   "cell_type": "code",
   "execution_count": 48,
   "metadata": {},
   "outputs": [
    {
     "name": "stdout",
     "output_type": "stream",
     "text": [
      "[LightGBM] [Info] Number of positive: 1644, number of negative: 4356\n",
      "[LightGBM] [Info] Auto-choosing col-wise multi-threading, the overhead of testing was 0.004428 seconds.\n",
      "You can set `force_col_wise=true` to remove the overhead.\n",
      "[LightGBM] [Info] Total Bins 6093\n",
      "[LightGBM] [Info] Number of data points in the train set: 6000, number of used features: 36\n",
      "[LightGBM] [Info] [binary:BoostFromScore]: pavg=0.274000 -> initscore=-0.974422\n",
      "[LightGBM] [Info] Start training from score -0.974422\n",
      "[LightGBM] [Warning] No further splits with positive gain, best gain: -inf\n",
      "[LightGBM] [Warning] No further splits with positive gain, best gain: -inf\n",
      "[LightGBM] [Warning] No further splits with positive gain, best gain: -inf\n",
      "[LightGBM] [Warning] No further splits with positive gain, best gain: -inf\n",
      "[LightGBM] [Warning] No further splits with positive gain, best gain: -inf\n",
      "[LightGBM] [Warning] No further splits with positive gain, best gain: -inf\n",
      "[LightGBM] [Warning] No further splits with positive gain, best gain: -inf\n",
      "[LightGBM] [Warning] No further splits with positive gain, best gain: -inf\n",
      "[LightGBM] [Warning] No further splits with positive gain, best gain: -inf\n",
      "[LightGBM] [Warning] No further splits with positive gain, best gain: -inf\n",
      "[LightGBM] [Warning] No further splits with positive gain, best gain: -inf\n",
      "[LightGBM] [Warning] No further splits with positive gain, best gain: -inf\n",
      "[LightGBM] [Warning] No further splits with positive gain, best gain: -inf\n",
      "[LightGBM] [Warning] No further splits with positive gain, best gain: -inf\n",
      "[LightGBM] [Warning] No further splits with positive gain, best gain: -inf\n",
      "[LightGBM] [Warning] No further splits with positive gain, best gain: -inf\n",
      "[LightGBM] [Warning] No further splits with positive gain, best gain: -inf\n",
      "[LightGBM] [Warning] No further splits with positive gain, best gain: -inf\n",
      "[LightGBM] [Warning] No further splits with positive gain, best gain: -inf\n",
      "[LightGBM] [Warning] No further splits with positive gain, best gain: -inf\n",
      "[LightGBM] [Warning] No further splits with positive gain, best gain: -inf\n",
      "[LightGBM] [Warning] No further splits with positive gain, best gain: -inf\n",
      "[LightGBM] [Warning] No further splits with positive gain, best gain: -inf\n",
      "[LightGBM] [Warning] No further splits with positive gain, best gain: -inf\n",
      "[LightGBM] [Warning] No further splits with positive gain, best gain: -inf\n",
      "[LightGBM] [Warning] No further splits with positive gain, best gain: -inf\n",
      "[LightGBM] [Warning] No further splits with positive gain, best gain: -inf\n",
      "[LightGBM] [Warning] No further splits with positive gain, best gain: -inf\n",
      "[LightGBM] [Warning] No further splits with positive gain, best gain: -inf\n",
      "[LightGBM] [Warning] No further splits with positive gain, best gain: -inf\n",
      "[LightGBM] [Warning] No further splits with positive gain, best gain: -inf\n",
      "[LightGBM] [Warning] No further splits with positive gain, best gain: -inf\n",
      "[LightGBM] [Warning] No further splits with positive gain, best gain: -inf\n",
      "[LightGBM] [Warning] No further splits with positive gain, best gain: -inf\n",
      "[LightGBM] [Warning] No further splits with positive gain, best gain: -inf\n",
      "[LightGBM] [Warning] No further splits with positive gain, best gain: -inf\n",
      "[LightGBM] [Warning] No further splits with positive gain, best gain: -inf\n",
      "[LightGBM] [Warning] No further splits with positive gain, best gain: -inf\n",
      "[LightGBM] [Warning] No further splits with positive gain, best gain: -inf\n",
      "[LightGBM] [Warning] No further splits with positive gain, best gain: -inf\n",
      "[LightGBM] [Warning] No further splits with positive gain, best gain: -inf\n",
      "[LightGBM] [Warning] No further splits with positive gain, best gain: -inf\n",
      "[LightGBM] [Warning] No further splits with positive gain, best gain: -inf\n",
      "[LightGBM] [Warning] No further splits with positive gain, best gain: -inf\n",
      "[LightGBM] [Warning] No further splits with positive gain, best gain: -inf\n",
      "[LightGBM] [Warning] No further splits with positive gain, best gain: -inf\n",
      "[LightGBM] [Warning] No further splits with positive gain, best gain: -inf\n",
      "[LightGBM] [Warning] No further splits with positive gain, best gain: -inf\n",
      "[LightGBM] [Warning] No further splits with positive gain, best gain: -inf\n",
      "[LightGBM] [Warning] No further splits with positive gain, best gain: -inf\n",
      "[LightGBM] [Warning] No further splits with positive gain, best gain: -inf\n",
      "[LightGBM] [Warning] No further splits with positive gain, best gain: -inf\n",
      "[LightGBM] [Warning] No further splits with positive gain, best gain: -inf\n",
      "[LightGBM] [Warning] No further splits with positive gain, best gain: -inf\n",
      "[LightGBM] [Warning] No further splits with positive gain, best gain: -inf\n",
      "[LightGBM] [Warning] No further splits with positive gain, best gain: -inf\n",
      "[LightGBM] [Warning] No further splits with positive gain, best gain: -inf\n",
      "[LightGBM] [Warning] No further splits with positive gain, best gain: -inf\n",
      "[LightGBM] [Warning] No further splits with positive gain, best gain: -inf\n",
      "[LightGBM] [Warning] No further splits with positive gain, best gain: -inf\n",
      "[LightGBM] [Warning] No further splits with positive gain, best gain: -inf\n",
      "[LightGBM] [Warning] No further splits with positive gain, best gain: -inf\n",
      "[LightGBM] [Warning] No further splits with positive gain, best gain: -inf\n",
      "[LightGBM] [Warning] No further splits with positive gain, best gain: -inf\n",
      "[LightGBM] [Warning] No further splits with positive gain, best gain: -inf\n",
      "[LightGBM] [Warning] No further splits with positive gain, best gain: -inf\n",
      "[LightGBM] [Warning] No further splits with positive gain, best gain: -inf\n",
      "[LightGBM] [Warning] No further splits with positive gain, best gain: -inf\n",
      "[LightGBM] [Warning] No further splits with positive gain, best gain: -inf\n",
      "[LightGBM] [Warning] No further splits with positive gain, best gain: -inf\n",
      "[LightGBM] [Warning] No further splits with positive gain, best gain: -inf\n",
      "[LightGBM] [Warning] No further splits with positive gain, best gain: -inf\n",
      "[LightGBM] [Warning] No further splits with positive gain, best gain: -inf\n",
      "[LightGBM] [Warning] No further splits with positive gain, best gain: -inf\n",
      "[LightGBM] [Warning] No further splits with positive gain, best gain: -inf\n",
      "[LightGBM] [Warning] No further splits with positive gain, best gain: -inf\n",
      "[LightGBM] [Warning] No further splits with positive gain, best gain: -inf\n",
      "[LightGBM] [Warning] No further splits with positive gain, best gain: -inf\n"
     ]
    }
   ],
   "source": [
    "score = get_score(X_train, X_test, y_train, y_test)"
   ]
  },
  {
   "cell_type": "code",
   "execution_count": 49,
   "metadata": {},
   "outputs": [
    {
     "name": "stdout",
     "output_type": "stream",
     "text": [
      "The score after feature generation is 0.9984\n",
      "The top 10 generated features are\n",
      "(bwd_num_pkts-fwd_mean_pkt_len)\n",
      "CombineThenFreq(bwd_max_pkt_len,scenario)\n",
      "GroupByThenNUnique(fwd_max_pkt_len,bwd_min_pkt_len)\n",
      "GroupByThenRank(prt_dst,bwd_max_pkt_len)\n",
      "(bwd_std_iat-bwd_num_rst_flags)\n",
      "(fwd_mean_iat/bwd_min_iat)\n",
      "GroupByThenStd(fwd_mean_pkt_len,bwd_max_pkt_len)\n",
      "(prt_dst-scenario)\n",
      "GroupByThenRank(prt_dst,fwd_min_pkt_len)\n",
      "GroupByThenRank(prt_src,scenario)\n"
     ]
    }
   ],
   "source": [
    "# OpenFE recommends a list of new features. We include the top 10\n",
    "# generated features to see how they influence the model performance\n",
    "print(\"The score after feature generation is\", score)\n",
    "print(\"The top 10 generated features are\")\n",
    "for feature in ofe.new_features_list[:10]:\n",
    "    print(tree_to_formula(feature))"
   ]
  }
 ],
 "metadata": {
  "kernelspec": {
   "display_name": "Python 3",
   "language": "python",
   "name": "python3"
  },
  "language_info": {
   "codemirror_mode": {
    "name": "ipython",
    "version": 3
   },
   "file_extension": ".py",
   "mimetype": "text/x-python",
   "name": "python",
   "nbconvert_exporter": "python",
   "pygments_lexer": "ipython3",
   "version": "3.12.2"
  }
 },
 "nbformat": 4,
 "nbformat_minor": 2
}
