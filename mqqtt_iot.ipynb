{
  "cells": [
    {
      "cell_type": "code",
      "execution_count": 1,
      "metadata": {
        "id": "Bt11d2MRaoz2"
      },
      "outputs": [],
      "source": [
        "from openfe import OpenFE, tree_to_formula, transform, TwoStageFeatureSelector\n",
        "import pandas as pd\n",
        "import numpy as np\n",
        "from sklearn.model_selection import train_test_split\n",
        "from sklearn.preprocessing import LabelEncoder\n",
        "from sklearn.preprocessing import StandardScaler\n",
        "import lightgbm as lgb\n",
        "from sklearn.metrics import accuracy_score, recall_score, precision_score, f1_score, matthews_corrcoef\n",
        "from IPython.display import clear_output\n",
        "from FS import pso, hho\n",
        "from sklearn.ensemble import RandomForestClassifier"
      ]
    },
    {
      "cell_type": "markdown",
      "metadata": {
        "id": "MFdUSajHaozv"
      },
      "source": [
        "## Preprocessing"
      ]
    },
    {
      "cell_type": "code",
      "execution_count": 2,
      "metadata": {
        "id": "5ICnolimaoz6"
      },
      "outputs": [],
      "source": [
        "df = pd.read_csv('F:/Kỳ 4/Thầy Hùng/OpenFE/data/MQTT-IoT-IDS2020/mqtt_50k.csv')"
      ]
    },
    {
      "cell_type": "code",
      "execution_count": 3,
      "metadata": {
        "colab": {
          "base_uri": "https://localhost:8080/",
          "height": 255
        },
        "id": "KlOdJ9qaaoz8",
        "outputId": "85003a75-80a8-4a5e-b51c-709a18d03421"
      },
      "outputs": [
        {
          "data": {
            "text/html": [
              "<div>\n",
              "<style scoped>\n",
              "    .dataframe tbody tr th:only-of-type {\n",
              "        vertical-align: middle;\n",
              "    }\n",
              "\n",
              "    .dataframe tbody tr th {\n",
              "        vertical-align: top;\n",
              "    }\n",
              "\n",
              "    .dataframe thead th {\n",
              "        text-align: right;\n",
              "    }\n",
              "</style>\n",
              "<table border=\"1\" class=\"dataframe\">\n",
              "  <thead>\n",
              "    <tr style=\"text-align: right;\">\n",
              "      <th></th>\n",
              "      <th>ip_src</th>\n",
              "      <th>ip_dst</th>\n",
              "      <th>prt_src</th>\n",
              "      <th>prt_dst</th>\n",
              "      <th>proto</th>\n",
              "      <th>fwd_num_pkts</th>\n",
              "      <th>bwd_num_pkts</th>\n",
              "      <th>fwd_mean_iat</th>\n",
              "      <th>bwd_mean_iat</th>\n",
              "      <th>fwd_std_iat</th>\n",
              "      <th>...</th>\n",
              "      <th>fwd_num_bytes</th>\n",
              "      <th>bwd_num_bytes</th>\n",
              "      <th>fwd_num_psh_flags</th>\n",
              "      <th>bwd_num_psh_flags</th>\n",
              "      <th>fwd_num_rst_flags</th>\n",
              "      <th>bwd_num_rst_flags</th>\n",
              "      <th>fwd_num_urg_flags</th>\n",
              "      <th>bwd_num_urg_flags</th>\n",
              "      <th>is_attack</th>\n",
              "      <th>category</th>\n",
              "    </tr>\n",
              "  </thead>\n",
              "  <tbody>\n",
              "    <tr>\n",
              "      <th>0</th>\n",
              "      <td>10.0.0.13</td>\n",
              "      <td>192.168.1.7</td>\n",
              "      <td>32964</td>\n",
              "      <td>1883</td>\n",
              "      <td>6</td>\n",
              "      <td>7</td>\n",
              "      <td>5</td>\n",
              "      <td>0.000342</td>\n",
              "      <td>0.000400</td>\n",
              "      <td>0.000356</td>\n",
              "      <td>...</td>\n",
              "      <td>464</td>\n",
              "      <td>272</td>\n",
              "      <td>3</td>\n",
              "      <td>1</td>\n",
              "      <td>0</td>\n",
              "      <td>0</td>\n",
              "      <td>0</td>\n",
              "      <td>0</td>\n",
              "      <td>0</td>\n",
              "      <td>sparta</td>\n",
              "    </tr>\n",
              "    <tr>\n",
              "      <th>1</th>\n",
              "      <td>192.168.2.5</td>\n",
              "      <td>10.0.0.12</td>\n",
              "      <td>58390</td>\n",
              "      <td>786</td>\n",
              "      <td>17</td>\n",
              "      <td>1</td>\n",
              "      <td>1</td>\n",
              "      <td>0.000000</td>\n",
              "      <td>0.000000</td>\n",
              "      <td>0.000000</td>\n",
              "      <td>...</td>\n",
              "      <td>28</td>\n",
              "      <td>28</td>\n",
              "      <td>0</td>\n",
              "      <td>0</td>\n",
              "      <td>0</td>\n",
              "      <td>0</td>\n",
              "      <td>0</td>\n",
              "      <td>0</td>\n",
              "      <td>1</td>\n",
              "      <td>scan_sU</td>\n",
              "    </tr>\n",
              "    <tr>\n",
              "      <th>2</th>\n",
              "      <td>192.168.2.5</td>\n",
              "      <td>10.0.0.8</td>\n",
              "      <td>58390</td>\n",
              "      <td>38</td>\n",
              "      <td>17</td>\n",
              "      <td>1</td>\n",
              "      <td>1</td>\n",
              "      <td>0.000000</td>\n",
              "      <td>0.000000</td>\n",
              "      <td>0.000000</td>\n",
              "      <td>...</td>\n",
              "      <td>28</td>\n",
              "      <td>28</td>\n",
              "      <td>0</td>\n",
              "      <td>0</td>\n",
              "      <td>0</td>\n",
              "      <td>0</td>\n",
              "      <td>0</td>\n",
              "      <td>0</td>\n",
              "      <td>1</td>\n",
              "      <td>scan_sU</td>\n",
              "    </tr>\n",
              "    <tr>\n",
              "      <th>3</th>\n",
              "      <td>10.0.0.16</td>\n",
              "      <td>192.168.1.7</td>\n",
              "      <td>58728</td>\n",
              "      <td>1883</td>\n",
              "      <td>6</td>\n",
              "      <td>7</td>\n",
              "      <td>5</td>\n",
              "      <td>0.000480</td>\n",
              "      <td>0.000616</td>\n",
              "      <td>0.000615</td>\n",
              "      <td>...</td>\n",
              "      <td>445</td>\n",
              "      <td>272</td>\n",
              "      <td>3</td>\n",
              "      <td>1</td>\n",
              "      <td>0</td>\n",
              "      <td>0</td>\n",
              "      <td>0</td>\n",
              "      <td>0</td>\n",
              "      <td>0</td>\n",
              "      <td>sparta</td>\n",
              "    </tr>\n",
              "    <tr>\n",
              "      <th>4</th>\n",
              "      <td>10.0.0.13</td>\n",
              "      <td>192.168.1.7</td>\n",
              "      <td>60512</td>\n",
              "      <td>1883</td>\n",
              "      <td>6</td>\n",
              "      <td>7</td>\n",
              "      <td>5</td>\n",
              "      <td>0.000290</td>\n",
              "      <td>0.000341</td>\n",
              "      <td>0.000312</td>\n",
              "      <td>...</td>\n",
              "      <td>462</td>\n",
              "      <td>272</td>\n",
              "      <td>3</td>\n",
              "      <td>1</td>\n",
              "      <td>0</td>\n",
              "      <td>0</td>\n",
              "      <td>0</td>\n",
              "      <td>0</td>\n",
              "      <td>0</td>\n",
              "      <td>sparta</td>\n",
              "    </tr>\n",
              "  </tbody>\n",
              "</table>\n",
              "<p>5 rows × 33 columns</p>\n",
              "</div>"
            ],
            "text/plain": [
              "        ip_src       ip_dst  prt_src  prt_dst  proto  fwd_num_pkts  \\\n",
              "0    10.0.0.13  192.168.1.7    32964     1883      6             7   \n",
              "1  192.168.2.5    10.0.0.12    58390      786     17             1   \n",
              "2  192.168.2.5     10.0.0.8    58390       38     17             1   \n",
              "3    10.0.0.16  192.168.1.7    58728     1883      6             7   \n",
              "4    10.0.0.13  192.168.1.7    60512     1883      6             7   \n",
              "\n",
              "   bwd_num_pkts  fwd_mean_iat  bwd_mean_iat  fwd_std_iat  ...  fwd_num_bytes  \\\n",
              "0             5      0.000342      0.000400     0.000356  ...            464   \n",
              "1             1      0.000000      0.000000     0.000000  ...             28   \n",
              "2             1      0.000000      0.000000     0.000000  ...             28   \n",
              "3             5      0.000480      0.000616     0.000615  ...            445   \n",
              "4             5      0.000290      0.000341     0.000312  ...            462   \n",
              "\n",
              "   bwd_num_bytes  fwd_num_psh_flags  bwd_num_psh_flags  fwd_num_rst_flags  \\\n",
              "0            272                  3                  1                  0   \n",
              "1             28                  0                  0                  0   \n",
              "2             28                  0                  0                  0   \n",
              "3            272                  3                  1                  0   \n",
              "4            272                  3                  1                  0   \n",
              "\n",
              "   bwd_num_rst_flags  fwd_num_urg_flags  bwd_num_urg_flags  is_attack  \\\n",
              "0                  0                  0                  0          0   \n",
              "1                  0                  0                  0          1   \n",
              "2                  0                  0                  0          1   \n",
              "3                  0                  0                  0          0   \n",
              "4                  0                  0                  0          0   \n",
              "\n",
              "   category  \n",
              "0    sparta  \n",
              "1   scan_sU  \n",
              "2   scan_sU  \n",
              "3    sparta  \n",
              "4    sparta  \n",
              "\n",
              "[5 rows x 33 columns]"
            ]
          },
          "execution_count": 3,
          "metadata": {},
          "output_type": "execute_result"
        }
      ],
      "source": [
        "df.head(5)"
      ]
    },
    {
      "cell_type": "code",
      "execution_count": 4,
      "metadata": {
        "colab": {
          "base_uri": "https://localhost:8080/"
        },
        "id": "dYdAlDfoaoz9",
        "outputId": "ba010dbe-7970-425d-b81f-a50e7d0043aa"
      },
      "outputs": [
        {
          "data": {
            "text/plain": [
              "(50000, 33)"
            ]
          },
          "execution_count": 4,
          "metadata": {},
          "output_type": "execute_result"
        }
      ],
      "source": [
        "df.shape"
      ]
    },
    {
      "cell_type": "code",
      "execution_count": 5,
      "metadata": {
        "colab": {
          "base_uri": "https://localhost:8080/"
        },
        "id": "5sqTb-gqaoz-",
        "outputId": "10720e4b-2600-407a-9d5d-b21c73254942"
      },
      "outputs": [
        {
          "name": "stdout",
          "output_type": "stream",
          "text": [
            "<class 'pandas.core.frame.DataFrame'>\n",
            "RangeIndex: 50000 entries, 0 to 49999\n",
            "Data columns (total 33 columns):\n",
            " #   Column             Non-Null Count  Dtype  \n",
            "---  ------             --------------  -----  \n",
            " 0   ip_src             50000 non-null  object \n",
            " 1   ip_dst             50000 non-null  object \n",
            " 2   prt_src            50000 non-null  int64  \n",
            " 3   prt_dst            50000 non-null  int64  \n",
            " 4   proto              50000 non-null  int64  \n",
            " 5   fwd_num_pkts       50000 non-null  int64  \n",
            " 6   bwd_num_pkts       50000 non-null  int64  \n",
            " 7   fwd_mean_iat       50000 non-null  float64\n",
            " 8   bwd_mean_iat       50000 non-null  float64\n",
            " 9   fwd_std_iat        50000 non-null  float64\n",
            " 10  bwd_std_iat        50000 non-null  float64\n",
            " 11  fwd_min_iat        50000 non-null  float64\n",
            " 12  bwd_min_iat        50000 non-null  float64\n",
            " 13  fwd_max_iat        50000 non-null  float64\n",
            " 14  bwd_max_iat        50000 non-null  float64\n",
            " 15  fwd_mean_pkt_len   50000 non-null  float64\n",
            " 16  bwd_mean_pkt_len   50000 non-null  float64\n",
            " 17  fwd_std_pkt_len    50000 non-null  float64\n",
            " 18  bwd_std_pkt_len    50000 non-null  float64\n",
            " 19  fwd_min_pkt_len    50000 non-null  float64\n",
            " 20  bwd_min_pkt_len    50000 non-null  float64\n",
            " 21  fwd_max_pkt_len    50000 non-null  float64\n",
            " 22  bwd_max_pkt_len    50000 non-null  float64\n",
            " 23  fwd_num_bytes      50000 non-null  int64  \n",
            " 24  bwd_num_bytes      50000 non-null  int64  \n",
            " 25  fwd_num_psh_flags  50000 non-null  int64  \n",
            " 26  bwd_num_psh_flags  50000 non-null  int64  \n",
            " 27  fwd_num_rst_flags  50000 non-null  int64  \n",
            " 28  bwd_num_rst_flags  50000 non-null  int64  \n",
            " 29  fwd_num_urg_flags  50000 non-null  int64  \n",
            " 30  bwd_num_urg_flags  50000 non-null  int64  \n",
            " 31  is_attack          50000 non-null  int64  \n",
            " 32  category           50000 non-null  object \n",
            "dtypes: float64(16), int64(14), object(3)\n",
            "memory usage: 12.6+ MB\n"
          ]
        }
      ],
      "source": [
        "df.info()"
      ]
    },
    {
      "cell_type": "code",
      "execution_count": 6,
      "metadata": {
        "colab": {
          "base_uri": "https://localhost:8080/"
        },
        "id": "H0fle2Omaoz_",
        "outputId": "cd13c0a1-34e3-49e8-fbd3-dc9f03583849"
      },
      "outputs": [
        {
          "data": {
            "text/plain": [
              "ip_src               0\n",
              "ip_dst               0\n",
              "prt_src              0\n",
              "prt_dst              0\n",
              "proto                0\n",
              "fwd_num_pkts         0\n",
              "bwd_num_pkts         0\n",
              "fwd_mean_iat         0\n",
              "bwd_mean_iat         0\n",
              "fwd_std_iat          0\n",
              "bwd_std_iat          0\n",
              "fwd_min_iat          0\n",
              "bwd_min_iat          0\n",
              "fwd_max_iat          0\n",
              "bwd_max_iat          0\n",
              "fwd_mean_pkt_len     0\n",
              "bwd_mean_pkt_len     0\n",
              "fwd_std_pkt_len      0\n",
              "bwd_std_pkt_len      0\n",
              "fwd_min_pkt_len      0\n",
              "bwd_min_pkt_len      0\n",
              "fwd_max_pkt_len      0\n",
              "bwd_max_pkt_len      0\n",
              "fwd_num_bytes        0\n",
              "bwd_num_bytes        0\n",
              "fwd_num_psh_flags    0\n",
              "bwd_num_psh_flags    0\n",
              "fwd_num_rst_flags    0\n",
              "bwd_num_rst_flags    0\n",
              "fwd_num_urg_flags    0\n",
              "bwd_num_urg_flags    0\n",
              "is_attack            0\n",
              "category             0\n",
              "dtype: int64"
            ]
          },
          "execution_count": 6,
          "metadata": {},
          "output_type": "execute_result"
        }
      ],
      "source": [
        "df.isnull().sum()"
      ]
    },
    {
      "cell_type": "code",
      "execution_count": 7,
      "metadata": {
        "colab": {
          "base_uri": "https://localhost:8080/",
          "height": 98
        },
        "id": "oqPbDRN_ao0A",
        "outputId": "1e6277ae-b93e-49b5-871e-4b08f12eff42"
      },
      "outputs": [],
      "source": [
        "df.isnull().sum()\n",
        "df.dropna(inplace=True)"
      ]
    },
    {
      "cell_type": "code",
      "execution_count": 8,
      "metadata": {
        "colab": {
          "base_uri": "https://localhost:8080/"
        },
        "id": "QLcSIKc8ao0B",
        "outputId": "5813532a-f637-4382-96c2-c8d5b217bc8e"
      },
      "outputs": [
        {
          "data": {
            "text/plain": [
              "category\n",
              "sparta             17603\n",
              "normal             16580\n",
              "scan_sU             7646\n",
              "scan_A              4953\n",
              "mqtt_bruteforce     3218\n",
              "Name: count, dtype: int64"
            ]
          },
          "execution_count": 8,
          "metadata": {},
          "output_type": "execute_result"
        }
      ],
      "source": [
        "df['category'].value_counts()"
      ]
    },
    {
      "cell_type": "code",
      "execution_count": 9,
      "metadata": {
        "id": "UqAlKZk_ao0D"
      },
      "outputs": [],
      "source": [
        "#Encode\n",
        "label_encoder = LabelEncoder()\n",
        "for col in df.columns:\n",
        "    if df[col].dtype == 'object':\n",
        "    \tdf[col] = label_encoder.fit_transform(df[col])"
      ]
    },
    {
      "cell_type": "code",
      "execution_count": 10,
      "metadata": {
        "colab": {
          "base_uri": "https://localhost:8080/"
        },
        "id": "pzfgemeEao0D",
        "outputId": "5c2d4d12-552d-4320-f2b1-82e7852b2c4c"
      },
      "outputs": [
        {
          "name": "stdout",
          "output_type": "stream",
          "text": [
            "bwd_num_urg_flags\n"
          ]
        }
      ],
      "source": [
        "for col in df.columns:\n",
        "  if len(df[col].unique()) <= 1:\n",
        "    print(col)\n",
        "    df.drop(col, axis=1, inplace=True)"
      ]
    },
    {
      "cell_type": "code",
      "execution_count": 11,
      "metadata": {
        "id": "-eLV3rLmao0E"
      },
      "outputs": [],
      "source": [
        "features = df.drop(['category', 'is_attack', 'ip_src', 'ip_dst'], axis=1)\n",
        "labels = pd.DataFrame(df['category'])"
      ]
    },
    {
      "cell_type": "markdown",
      "metadata": {
        "id": "yPopGfMMao0F"
      },
      "source": [
        "## Training"
      ]
    },
    {
      "cell_type": "code",
      "execution_count": 12,
      "metadata": {},
      "outputs": [],
      "source": [
        "def get_score(train_x, test_x, train_y, test_y):\n",
        "    gbm = lgb.LGBMClassifier()\n",
        "    gbm.fit(train_x, train_y)\n",
        "    pred = gbm.predict(test_x)\n",
        "    clear_output()\n",
        "    accuracy = accuracy_score(test_y, pred)\n",
        "    f1 = f1_score(test_y, pred, average='macro')\n",
        "    mcc = matthews_corrcoef(test_y, pred)\n",
        "    return {'Accuracy': accuracy, 'F1 Score': f1, 'MCC': mcc}"
      ]
    },
    {
      "cell_type": "code",
      "execution_count": 13,
      "metadata": {
        "id": "XSTHJJKmao0F"
      },
      "outputs": [],
      "source": [
        "X_train, X_test, y_train, y_test = train_test_split(features, labels, test_size=0.25, random_state=42)"
      ]
    },
    {
      "cell_type": "code",
      "execution_count": 14,
      "metadata": {},
      "outputs": [],
      "source": [
        "results = {}"
      ]
    },
    {
      "cell_type": "code",
      "execution_count": 15,
      "metadata": {},
      "outputs": [
        {
          "data": {
            "text/plain": [
              "{'Accuracy': 0.86664,\n",
              " 'F1 Score': 0.8925882963383482,\n",
              " 'MCC': 0.8162979148365876}"
            ]
          },
          "execution_count": 15,
          "metadata": {},
          "output_type": "execute_result"
        }
      ],
      "source": [
        "base_data_score = get_score(X_train, X_test, y_train, y_test)\n",
        "# results['Base data'] = base_data_score\n",
        "base_data_score"
      ]
    },
    {
      "cell_type": "markdown",
      "metadata": {
        "id": "XyJppHK9ao0G"
      },
      "source": [
        "## OpenFE"
      ]
    },
    {
      "cell_type": "code",
      "execution_count": 16,
      "metadata": {
        "colab": {
          "background_save": true,
          "base_uri": "https://localhost:8080/"
        },
        "id": "yWrlyuXcao0G",
        "outputId": "7e2828fe-c248-44f2-f503-7c191feaa33d"
      },
      "outputs": [
        {
          "name": "stdout",
          "output_type": "stream",
          "text": [
            "The number of candidate features is 4103\n",
            "Start stage I selection.\n"
          ]
        },
        {
          "name": "stderr",
          "output_type": "stream",
          "text": [
            "100%|██████████| 16/16 [02:11<00:00,  8.22s/it]\n"
          ]
        },
        {
          "name": "stdout",
          "output_type": "stream",
          "text": [
            "1630 same features have been deleted.\n",
            "Meet early-stopping in successive feature-wise halving.\n"
          ]
        },
        {
          "name": "stderr",
          "output_type": "stream",
          "text": [
            "100%|██████████| 16/16 [15:07<00:00, 56.70s/it]\n"
          ]
        },
        {
          "name": "stdout",
          "output_type": "stream",
          "text": [
            "The number of remaining candidate features is 2000\n",
            "Start stage II selection.\n"
          ]
        },
        {
          "name": "stderr",
          "output_type": "stream",
          "text": [
            "100%|██████████| 16/16 [01:07<00:00,  4.24s/it]\n"
          ]
        },
        {
          "name": "stdout",
          "output_type": "stream",
          "text": [
            "Finish data processing.\n",
            "[LightGBM] [Info] Auto-choosing col-wise multi-threading, the overhead of testing was 0.723151 seconds.\n",
            "You can set `force_col_wise=true` to remove the overhead.\n",
            "[LightGBM] [Info] Total Bins 391947\n",
            "[LightGBM] [Info] Number of data points in the train set: 30000, number of used features: 2027\n"
          ]
        }
      ],
      "source": [
        "ofe = OpenFE()\n",
        "features = ofe.fit(data = X_train, label = y_train, n_jobs=4)"
      ]
    },
    {
      "cell_type": "code",
      "execution_count": 17,
      "metadata": {
        "id": "QFn2z74dao0I"
      },
      "outputs": [],
      "source": [
        "X_train_expanded, X_test_expanded = transform(X_train, X_test, ofe.new_features_list, n_jobs = 4)"
      ]
    },
    {
      "cell_type": "code",
      "execution_count": 18,
      "metadata": {},
      "outputs": [
        {
          "name": "stdout",
          "output_type": "stream",
          "text": [
            "Number of features after using OpenFE: 2028\n"
          ]
        }
      ],
      "source": [
        "print('Number of features after using OpenFE:', len(X_train_expanded.columns))"
      ]
    },
    {
      "cell_type": "code",
      "execution_count": 19,
      "metadata": {},
      "outputs": [
        {
          "data": {
            "text/plain": [
              "{'Accuracy': 0.88808, 'F1 Score': 0.906926913655813, 'MCC': 0.8458644219329308}"
            ]
          },
          "execution_count": 19,
          "metadata": {},
          "output_type": "execute_result"
        }
      ],
      "source": [
        "openFE_score = get_score(X_train_expanded, X_test_expanded, y_train, y_test)\n",
        "results['OpenFE'] = openFE_score\n",
        "openFE_score"
      ]
    },
    {
      "cell_type": "markdown",
      "metadata": {},
      "source": [
        "# Features Selection PSO"
      ]
    },
    {
      "cell_type": "code",
      "execution_count": 16,
      "metadata": {},
      "outputs": [],
      "source": [
        "xtrain, xvalid, ytrain, yvalid = train_test_split(X_train.values, y_train.values, test_size=0.25, stratify=y_train)\n",
        "fold = {'xt':xtrain, 'yt':ytrain, 'xv':xvalid, 'yv':yvalid}\n",
        "\n",
        "# parameter\n",
        "k    = 5     # k-value in KNN\n",
        "N    = 5    # number of particles\n",
        "T    = 10    # maximum number of iterations\n",
        "w    = 0.9\n",
        "c1   = 2\n",
        "c2   = 2\n",
        "opts = {'k':k, 'fold':fold, 'N':N, 'T':T, 'w':w, 'c1':c1, 'c2':c2}"
      ]
    },
    {
      "cell_type": "code",
      "execution_count": 17,
      "metadata": {},
      "outputs": [
        {
          "name": "stdout",
          "output_type": "stream",
          "text": [
            "Iteration: 1\n",
            "Best (PSO): 0.3177468571428572\n",
            "Iteration: 2\n",
            "Best (PSO): 0.3177468571428572\n",
            "Iteration: 3\n",
            "Best (PSO): 0.3169673142857143\n",
            "Iteration: 4\n",
            "Best (PSO): 0.3166505142857143\n",
            "Iteration: 5\n",
            "Best (PSO): 0.31593622857142856\n",
            "Iteration: 6\n",
            "Best (PSO): 0.31593622857142856\n",
            "Iteration: 7\n",
            "Best (PSO): 0.3156194285714286\n",
            "Iteration: 8\n",
            "Best (PSO): 0.29909600000000003\n",
            "Iteration: 9\n",
            "Best (PSO): 0.29502742857142855\n",
            "Iteration: 10\n",
            "Best (PSO): 0.29502742857142855\n"
          ]
        }
      ],
      "source": [
        "# perform feature selection\n",
        "fmdl = pso.jfs(X_train, y_train, opts)\n",
        "sf   = fmdl['sf']"
      ]
    },
    {
      "cell_type": "code",
      "execution_count": 22,
      "metadata": {},
      "outputs": [
        {
          "data": {
            "text/plain": [
              "Index(['bwd_num_pkts', 'fwd_mean_iat', 'bwd_mean_iat', 'fwd_std_iat',\n",
              "       'bwd_std_iat', 'fwd_mean_pkt_len', 'fwd_std_pkt_len', 'fwd_min_pkt_len',\n",
              "       'bwd_min_pkt_len', 'fwd_max_pkt_len', 'fwd_num_psh_flags'],\n",
              "      dtype='object')"
            ]
          },
          "execution_count": 22,
          "metadata": {},
          "output_type": "execute_result"
        }
      ],
      "source": [
        "features_selected = X_train.columns[sf]\n",
        "features_selected"
      ]
    },
    {
      "cell_type": "code",
      "execution_count": 23,
      "metadata": {},
      "outputs": [],
      "source": [
        "X_train_pso = X_train[features_selected]\n",
        "X_test_pso = X_test[features_selected]"
      ]
    },
    {
      "cell_type": "code",
      "execution_count": 24,
      "metadata": {},
      "outputs": [
        {
          "data": {
            "text/plain": [
              "{'Accuracy': 0.76704,\n",
              " 'F1 Score': 0.8146410939257634,\n",
              " 'MCC': 0.6761654582050493}"
            ]
          },
          "execution_count": 24,
          "metadata": {},
          "output_type": "execute_result"
        }
      ],
      "source": [
        "pso_score = get_score(X_train_pso, X_test_pso, y_train, y_test)\n",
        "results['PSO'] = pso_score\n",
        "pso_score"
      ]
    },
    {
      "cell_type": "markdown",
      "metadata": {},
      "source": [
        "# HHO\n"
      ]
    },
    {
      "cell_type": "code",
      "execution_count": 18,
      "metadata": {},
      "outputs": [
        {
          "name": "stdout",
          "output_type": "stream",
          "text": [
            "Iteration: 1\n",
            "Best (HHO): 0.30073577142857144\n",
            "Iteration: 2\n",
            "Best (HHO): 0.2991766857142857\n",
            "Iteration: 3\n",
            "Best (HHO): 0.29839714285714286\n",
            "Iteration: 4\n",
            "Best (HHO): 0.29839714285714286\n",
            "Iteration: 5\n",
            "Best (HHO): 0.29839714285714286\n",
            "Iteration: 6\n",
            "Best (HHO): 0.29839714285714286\n",
            "Iteration: 7\n",
            "Best (HHO): 0.29839714285714286\n",
            "Iteration: 8\n",
            "Best (HHO): 0.29839714285714286\n",
            "Iteration: 9\n",
            "Best (HHO): 0.29839714285714286\n",
            "Iteration: 10\n",
            "Best (HHO): 0.29839714285714286\n"
          ]
        }
      ],
      "source": [
        "# perform feature selection\n",
        "fmdl = hho.jfs(X_train, y_train, opts)\n",
        "sf   = fmdl['sf']"
      ]
    },
    {
      "cell_type": "code",
      "execution_count": 19,
      "metadata": {},
      "outputs": [
        {
          "data": {
            "text/plain": [
              "Index(['proto', 'bwd_num_pkts', 'fwd_mean_iat', 'bwd_mean_iat', 'fwd_std_iat',\n",
              "       'bwd_std_iat', 'bwd_min_iat', 'fwd_max_iat', 'fwd_mean_pkt_len',\n",
              "       'bwd_mean_pkt_len', 'fwd_min_pkt_len', 'bwd_num_bytes',\n",
              "       'fwd_num_psh_flags', 'bwd_num_psh_flags', 'bwd_num_rst_flags'],\n",
              "      dtype='object')"
            ]
          },
          "execution_count": 19,
          "metadata": {},
          "output_type": "execute_result"
        }
      ],
      "source": [
        "features_selected = X_train.columns[sf]\n",
        "features_selected"
      ]
    },
    {
      "cell_type": "code",
      "execution_count": 20,
      "metadata": {},
      "outputs": [],
      "source": [
        "X_train_hho = X_train[features_selected]\n",
        "X_test_hho = X_test[features_selected]"
      ]
    },
    {
      "cell_type": "code",
      "execution_count": 21,
      "metadata": {},
      "outputs": [
        {
          "data": {
            "text/plain": [
              "{'Accuracy': 0.76272,\n",
              " 'F1 Score': 0.8096659558169137,\n",
              " 'MCC': 0.6697986071611925}"
            ]
          },
          "execution_count": 21,
          "metadata": {},
          "output_type": "execute_result"
        }
      ],
      "source": [
        "hho_score = get_score(X_train_hho, X_test_hho, y_train, y_test)\n",
        "results['HHO'] = hho_score\n",
        "hho_score"
      ]
    },
    {
      "cell_type": "markdown",
      "metadata": {},
      "source": [
        "# PSO + OpenFE"
      ]
    },
    {
      "cell_type": "code",
      "execution_count": 29,
      "metadata": {},
      "outputs": [
        {
          "name": "stdout",
          "output_type": "stream",
          "text": [
            "The number of candidate features is 613\n",
            "Start stage I selection.\n"
          ]
        },
        {
          "name": "stderr",
          "output_type": "stream",
          "text": [
            "100%|██████████| 16/16 [00:56<00:00,  3.54s/it]\n"
          ]
        },
        {
          "name": "stdout",
          "output_type": "stream",
          "text": [
            "122 same features have been deleted.\n",
            "Meet early-stopping in successive feature-wise halving.\n"
          ]
        },
        {
          "name": "stderr",
          "output_type": "stream",
          "text": [
            "100%|██████████| 16/16 [03:54<00:00, 14.67s/it]\n"
          ]
        },
        {
          "name": "stdout",
          "output_type": "stream",
          "text": [
            "The number of remaining candidate features is 491\n",
            "Start stage II selection.\n"
          ]
        },
        {
          "name": "stderr",
          "output_type": "stream",
          "text": [
            "100%|██████████| 16/16 [00:24<00:00,  1.53s/it]\n"
          ]
        },
        {
          "name": "stdout",
          "output_type": "stream",
          "text": [
            "Finish data processing.\n",
            "[LightGBM] [Info] Auto-choosing col-wise multi-threading, the overhead of testing was 0.072018 seconds.\n",
            "You can set `force_col_wise=true` to remove the overhead.\n",
            "[LightGBM] [Info] Total Bins 82362\n",
            "[LightGBM] [Info] Number of data points in the train set: 30000, number of used features: 499\n"
          ]
        }
      ],
      "source": [
        "ofe = OpenFE()\n",
        "features = ofe.fit(data = X_train_pso, label = y_train, n_jobs=4)"
      ]
    },
    {
      "cell_type": "code",
      "execution_count": 30,
      "metadata": {},
      "outputs": [],
      "source": [
        "X_train_pso_expanded, X_test_pso_expanded = transform(X_train_pso, X_test_pso, ofe.new_features_list, n_jobs = 4)"
      ]
    },
    {
      "cell_type": "code",
      "execution_count": 31,
      "metadata": {},
      "outputs": [
        {
          "name": "stdout",
          "output_type": "stream",
          "text": [
            "Number of features after using OpenFE: 502\n"
          ]
        }
      ],
      "source": [
        "print('Number of features after using OpenFE:', len(X_train_pso_expanded.columns))"
      ]
    },
    {
      "cell_type": "code",
      "execution_count": 32,
      "metadata": {},
      "outputs": [
        {
          "data": {
            "text/plain": [
              "{'Accuracy': 0.77792,\n",
              " 'F1 Score': 0.8218992585416173,\n",
              " 'MCC': 0.6919765475464567}"
            ]
          },
          "execution_count": 32,
          "metadata": {},
          "output_type": "execute_result"
        }
      ],
      "source": [
        "pso_openFE_score = get_score(X_train_pso_expanded, X_test_pso_expanded, y_train, y_test)\n",
        "results['PSO + OpenFE'] = pso_openFE_score\n",
        "pso_openFE_score"
      ]
    },
    {
      "cell_type": "markdown",
      "metadata": {},
      "source": [
        "# HHO + OpenFE"
      ]
    },
    {
      "cell_type": "code",
      "execution_count": 33,
      "metadata": {},
      "outputs": [
        {
          "name": "stdout",
          "output_type": "stream",
          "text": [
            "The number of candidate features is 686\n",
            "Start stage I selection.\n"
          ]
        },
        {
          "name": "stderr",
          "output_type": "stream",
          "text": [
            "100%|██████████| 16/16 [00:42<00:00,  2.69s/it]\n"
          ]
        },
        {
          "name": "stdout",
          "output_type": "stream",
          "text": [
            "171 same features have been deleted.\n",
            "Meet early-stopping in successive feature-wise halving.\n"
          ]
        },
        {
          "name": "stderr",
          "output_type": "stream",
          "text": [
            "100%|██████████| 16/16 [04:22<00:00, 16.40s/it]\n"
          ]
        },
        {
          "name": "stdout",
          "output_type": "stream",
          "text": [
            "The number of remaining candidate features is 515\n",
            "Start stage II selection.\n"
          ]
        },
        {
          "name": "stderr",
          "output_type": "stream",
          "text": [
            "100%|██████████| 16/16 [00:47<00:00,  2.95s/it]\n"
          ]
        },
        {
          "name": "stdout",
          "output_type": "stream",
          "text": [
            "Finish data processing.\n",
            "[LightGBM] [Info] Auto-choosing col-wise multi-threading, the overhead of testing was 0.114742 seconds.\n",
            "You can set `force_col_wise=true` to remove the overhead.\n",
            "[LightGBM] [Info] Total Bins 79650\n",
            "[LightGBM] [Info] Number of data points in the train set: 30000, number of used features: 524\n"
          ]
        }
      ],
      "source": [
        "ofe = OpenFE()\n",
        "features = ofe.fit(data = X_train_hho, label = y_train, n_jobs=4)"
      ]
    },
    {
      "cell_type": "code",
      "execution_count": 34,
      "metadata": {},
      "outputs": [],
      "source": [
        "X_train_hho_expanded, X_test_hho_expanded = transform(X_train_hho, X_test_hho, ofe.new_features_list, n_jobs = 4)"
      ]
    },
    {
      "cell_type": "code",
      "execution_count": 35,
      "metadata": {},
      "outputs": [
        {
          "name": "stdout",
          "output_type": "stream",
          "text": [
            "Number of features after using OpenFE: 526\n"
          ]
        }
      ],
      "source": [
        "print('Number of features after using OpenFE:', len(X_train_hho_expanded.columns))"
      ]
    },
    {
      "cell_type": "code",
      "execution_count": 36,
      "metadata": {},
      "outputs": [
        {
          "data": {
            "text/plain": [
              "{'Accuracy': 0.76016,\n",
              " 'F1 Score': 0.8114151081321431,\n",
              " 'MCC': 0.6671932723045716}"
            ]
          },
          "execution_count": 36,
          "metadata": {},
          "output_type": "execute_result"
        }
      ],
      "source": [
        "hho_openFE_score = get_score(X_train_hho_expanded, X_test_hho_expanded, y_train, y_test)\n",
        "results['PSO + OpenFE'] = hho_openFE_score\n",
        "hho_openFE_score"
      ]
    }
  ],
  "metadata": {
    "colab": {
      "provenance": []
    },
    "kernelspec": {
      "display_name": "Python 3",
      "language": "python",
      "name": "python3"
    },
    "language_info": {
      "codemirror_mode": {
        "name": "ipython",
        "version": 3
      },
      "file_extension": ".py",
      "mimetype": "text/x-python",
      "name": "python",
      "nbconvert_exporter": "python",
      "pygments_lexer": "ipython3",
      "version": "3.12.2"
    }
  },
  "nbformat": 4,
  "nbformat_minor": 0
}
